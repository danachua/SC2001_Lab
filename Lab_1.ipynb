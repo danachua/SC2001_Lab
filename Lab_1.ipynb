{
 "cells": [
  {
   "cell_type": "markdown",
   "metadata": {},
   "source": [
    "# **Project 1: Integration of Mergesort & Insertion Sort**"
   ]
  },
  {
   "cell_type": "markdown",
   "metadata": {},
   "source": [
    "### **1. Introduction**\n",
    "\n",
    "In this project, we aim to improve the efficiency of the traditional Mergesort algorithm by integrating it with Insertion Sort\n",
    "- **Problem:** Mergesort has a time complexity of $O(n \\log n)$ and performs well on large datasets. However, when subarrays become very small, the repeated recursive calls introduce significant overhead, making the algorithm less efficient in practice.\n",
    "\n",
    "- **Solution:** Insertion Sort, despite its worst-case $O(n^2)$ complexity, is simple and effective for small inputs due to its low overhead. By introducing a threshold value S, the algorithm switches from Mergesort to Insertion Sort whenever a subarray size is less than or equal to S.\n",
    "\n",
    "- **Outcome:** This hybrid approach reduces unnecessary recursion and improves practical performance while maintaining the asymptotic efficiency of Mergesort on larger datasets."
   ]
  },
  {
   "cell_type": "markdown",
   "metadata": {},
   "source": [
    "### **2. Algorithm Design**\n",
    "can put diagram of how it works"
   ]
  },
  {
   "cell_type": "markdown",
   "metadata": {},
   "source": [
    "### **3. Implementation**\n",
    "code"
   ]
  },
  {
   "cell_type": "code",
   "execution_count": null,
   "metadata": {},
   "outputs": [],
   "source": [
    "def merge(array, low, mid, high):\n",
    "    left_half = array[low : mid + 1]\n",
    "    right_half = array[mid + 1: high + 1]\n",
    "\n",
    "    if not left_half or not right_half:\n",
    "        return left_half + right_half\n",
    "    \n",
    "    sorted = []\n",
    "    while left_half or right_half:\n",
    "        if left_half[0] < right_half[0]:\n",
    "            sorted.append(left_half[0])\n",
    "            left_half = left_half[1:]\n",
    "        else:\n",
    "            sorted.append(right_half[0])\n",
    "            right_half = right_half[1:]\n",
    "\n",
    "    if left_half:\n",
    "        sorted.extend(left_half)\n",
    "    else:\n",
    "        sorted.extend(right_half)\n",
    "    \n",
    "    return sorted"
   ]
  },
  {
   "cell_type": "code",
   "execution_count": null,
   "metadata": {},
   "outputs": [],
   "source": [
    "def insertion_sort(array, low, high):\n",
    "    for i in range(low, high, -1):\n",
    "        for j in range(i, 0, -1):\n",
    "            if array[j] < array[j - 1]:\n",
    "                array[j], array[j - 1] = array[j - 1], array[j]\n",
    "            else:\n",
    "                break"
   ]
  },
  {
   "cell_type": "code",
   "execution_count": null,
   "metadata": {},
   "outputs": [],
   "source": [
    "# splits the array in half until len <= S then send to insertion sort\n",
    "# if len > S then send to merge sort\n",
    "def hybrid_merge_sort(array, S, low, high):\n",
    "    if low < high:\n",
    "        # if length of array <= S\n",
    "        if high - low + 1 <= S:\n",
    "            insertion_sort(array, low, high)\n",
    "        else:\n",
    "            mid = (low + high) // 2\n",
    "            hybrid_merge_sort(array, S, low, mid)      # sort left half\n",
    "            hybrid_merge_sort(array, S, mid + 1, high) # sort right half\n",
    "            merge(array, low, mid, high)        # merge them"
   ]
  },
  {
   "cell_type": "code",
   "execution_count": null,
   "metadata": {},
   "outputs": [],
   "source": [
    "# function to start the hybrid algorithm\n",
    "def sort_list_hybrid(array, S):\n",
    "    if len(array) <= S:\n",
    "        insertion_sort(array, 0, len(array) - 1)\n",
    "    else:\n",
    "        hybrid_merge_sort(array, S, 0, len(array) - 1)"
   ]
  },
  {
   "cell_type": "markdown",
   "metadata": {},
   "source": [
    "### **4. Dataset Generation**"
   ]
  },
  {
   "cell_type": "markdown",
   "metadata": {},
   "source": [
    "### **5. Analyse**"
   ]
  },
  {
   "cell_type": "markdown",
   "metadata": {},
   "source": [
    "### **6. Compare with Original Mergesort**"
   ]
  }
 ],
 "metadata": {
  "language_info": {
   "name": "python"
  }
 },
 "nbformat": 4,
 "nbformat_minor": 2
}
