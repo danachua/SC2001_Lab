{
 "cells": [
  {
   "cell_type": "markdown",
   "metadata": {},
   "source": [
    "# **Project 1: Integration of Mergesort & Insertion Sort**"
   ]
  },
  {
   "cell_type": "markdown",
   "metadata": {},
   "source": [
    "### **1. Introduction**\n",
    "\n",
    "In this project, we aim to improve the efficiency of the traditional Mergesort algorithm by integrating it with Insertion Sort\n",
    "- **Problem:** Mergesort has a time complexity of $O(n \\log n)$ and performs well on large datasets. However, when subarrays become very small, the repeated recursive calls introduce significant overhead, making the algorithm less efficient in practice.\n",
    "\n",
    "- **Solution:** Insertion Sort, despite its worst-case $O(n^2)$ complexity, is simple and effective for small inputs due to its low overhead. By introducing a threshold value S, the algorithm switches from Mergesort to Insertion Sort whenever a subarray size is less than or equal to S.\n",
    "\n",
    "- **Outcome:** This hybrid approach reduces unnecessary recursion and improves practical performance while maintaining the asymptotic efficiency of Mergesort on larger datasets."
   ]
  },
  {
   "cell_type": "markdown",
   "metadata": {},
   "source": [
    "### **2. Algorithm Design**\n",
    "can put diagram of how it works"
   ]
  },
  {
   "cell_type": "markdown",
   "metadata": {},
   "source": [
    "### **3. Implementation**\n"
   ]
  },
  {
   "cell_type": "code",
   "execution_count": null,
   "metadata": {},
   "outputs": [],
   "source": [
    "def merge(array, low, mid, high):\n",
    "    # copy the two sorted halves\n",
    "    left_half = array[low : mid + 1]\n",
    "    right_half = array[mid + 1: high + 1]\n",
    "\n",
    "    # read pointers into left/right\n",
    "    i = j = 0\n",
    "    # write pointer back into array\n",
    "    k = low\n",
    "    \n",
    "    # merge while both halves still have elements\n",
    "    while i < len(left_half) or j < len(right_half):\n",
    "        if left_half[i] <= right_half[j]:\n",
    "            array[k] = left_half[i]\n",
    "            i += 1\n",
    "        else:\n",
    "            array[k] = right_half[j]\n",
    "            j += 1\n",
    "        k += 1\n",
    "\n",
    "    # dump any leftovers\n",
    "    while i < len(left_half):\n",
    "        array[k] = left_half[i]\n",
    "        i += 1\n",
    "        k += 1\n",
    "    \n",
    "    while j < len(right_half):\n",
    "        array[k] = right_half[j]\n",
    "        j += 1\n",
    "        k +=1\n",
    "    "
   ]
  },
  {
   "cell_type": "code",
   "execution_count": null,
   "metadata": {},
   "outputs": [],
   "source": [
    "def insertion_sort(array, low, high):\n",
    "    # start from second element in the subarray since first element would have nothing to compare with\n",
    "    for i in range(low + 1, high + 1):\n",
    "        # loop stops at the first element of the subarray\n",
    "        for j in range(i, low, -1):\n",
    "            if array[j] < array[j - 1]:\n",
    "                array[j], array[j - 1] = array[j - 1], array[j]\n",
    "            else:\n",
    "                break"
   ]
  },
  {
   "cell_type": "code",
   "execution_count": null,
   "metadata": {},
   "outputs": [],
   "source": [
    "# splits the array in half until len <= S then send to insertion sort\n",
    "# if len > S then send to merge sort\n",
    "def hybrid_merge_sort(array, S, low, high):\n",
    "    if low >= high:\n",
    "        return\n",
    "    # if length of array <= S\n",
    "    if high - low + 1 <= S:\n",
    "        insertion_sort(array, low, high)\n",
    "        return\n",
    "\n",
    "    mid = (low + high) // 2\n",
    "    hybrid_merge_sort(array, S, low, mid)      # sort left half\n",
    "    hybrid_merge_sort(array, S, mid + 1, high) # sort right half\n",
    "    merge(array, low, mid, high)        # merge them"
   ]
  },
  {
   "cell_type": "code",
   "execution_count": null,
   "metadata": {},
   "outputs": [],
   "source": [
    "# function to start the hybrid algorithm\n",
    "def sort_list_hybrid(array, S):\n",
    "    n = len(array)\n",
    "    if n <= 1:\n",
    "        return\n",
    "    if n <= S:\n",
    "        insertion_sort(array, 0, n - 1)\n",
    "    else:\n",
    "        hybrid_merge_sort(array, S, 0, n - 1)"
   ]
  },
  {
   "cell_type": "markdown",
   "metadata": {},
   "source": [
    "### **4. Dataset Generation**"
   ]
  },
  {
   "cell_type": "code",
   "execution_count": 1,
   "metadata": {},
   "outputs": [
    {
     "name": "stdout",
     "output_type": "stream",
     "text": [
      "Requirement already satisfied: numpy in /opt/anaconda3/lib/python3.12/site-packages (1.26.4)\n",
      "Note: you may need to restart the kernel to use updated packages.\n"
     ]
    }
   ],
   "source": [
    "from numpy import random\n",
    "\n",
    "# sizes of array\n",
    "n = [1_000, 5_000, 10_000, 50_000, 100_000, 500_000, 1_000_000, 5_000_000, 10_000_000]\n",
    "\n",
    "list_of_integer_list = []\n",
    "# Generate an array of integers between 0 and 1 million\n",
    "for size in n:\n",
    "    arr = random.randint(1000001, size=(size))\n",
    "    # change generated array to list \n",
    "    list_of_integer_list.append(arr.tolist())\n",
    "\n"
   ]
  },
  {
   "cell_type": "markdown",
   "metadata": {},
   "source": [
    "### **5. Analyse**"
   ]
  },
  {
   "cell_type": "markdown",
   "metadata": {},
   "source": [
    "### **6. Compare with Original Mergesort**"
   ]
  }
 ],
 "metadata": {
  "kernelspec": {
   "display_name": "base",
   "language": "python",
   "name": "python3"
  },
  "language_info": {
   "codemirror_mode": {
    "name": "ipython",
    "version": 3
   },
   "file_extension": ".py",
   "mimetype": "text/x-python",
   "name": "python",
   "nbconvert_exporter": "python",
   "pygments_lexer": "ipython3",
   "version": "3.12.2"
  }
 },
 "nbformat": 4,
 "nbformat_minor": 2
}
